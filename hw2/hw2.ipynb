{
 "cells": [
  {
   "cell_type": "code",
   "execution_count": 4,
   "id": "86c01fe2",
   "metadata": {},
   "outputs": [],
   "source": [
    "%matplotlib inline\n",
    "import matplotlib.pyplot as plt\n",
    "import numpy as np\n",
    "import os\n",
    "import scipy.linalg"
   ]
  },
  {
   "cell_type": "code",
   "execution_count": 5,
   "id": "c0fe62ec",
   "metadata": {},
   "outputs": [],
   "source": [
    "def construct_D(m, r):\n",
    "    D_tail = np.ones(m-r) * 4e-3\n",
    "    D_main = r - np.arange(1, r+1) + 1\n",
    "    return np.diag(np.concatenate((D_main, D_tail)))\n",
    "\n",
    "def generate_A(m, n, r):\n",
    "    X = scipy.linalg.orth(np.random.randn(m, m))\n",
    "    Y = scipy.linalg.orth(np.random.randn(n, m))\n",
    "    D = construct_D(m, r)\n",
    "    return X @ D @ Y.T, X, Y, D\n",
    "\n",
    "def randomized_svd(A, left_c, right_c):\n",
    "    A_fro_sq = np.power(np.linalg.norm(A, ord='fro'), 2)\n",
    "    p_i = np.power(np.linalg.norm(A, axis=0), 2) / A_fro_sq\n",
    "    col_inds = np.where(np.random.multinomial(left_c, p_i) > 0)[0]\n",
    "    A_prime_left = A[:, col_inds] / np.sqrt(left_c * p_i[np.newaxis, col_inds])\n",
    "    U, Sigma_left, _ = np.linalg.svd(A_prime_left, full_matrices=False)\n",
    "    \n",
    "    p_j = np.power(np.linalg.norm(A, axis=1), 2) / A_fro_sq\n",
    "    row_inds = np.where(np.random.multinomial(right_c, p_j) > 0)[0]\n",
    "    A_prime_right = A[row_inds, :] / np.sqrt(right_c * p_j[row_inds, np.newaxis])\n",
    "    _, Sigma_right, Vt = np.linalg.svd(A_prime_right, full_matrices=False)\n",
    "    \n",
    "    return U, Vt.T, Sigma_left, Sigma_right\n",
    "\n",
    "def estimate_r_eigenvectors(A, r, c):\n",
    "    U, V, Sigma_left, Sigma_right = randomized_svd(A, c)\n",
    "    import ipdb; ipdb.set_trace()\n",
    "    return U[:, :r], V[:, :r], np.sqrt(Sigma_right[:r]) # left evecs, right evecs, sings\n",
    "\n",
    "def compute_error_U():\n",
    "    pass\n",
    "\n",
    "def compute_error_U():\n",
    "    pass\n",
    "\n",
    "def run_experiment(eps, A, U_true, V_true, r, c):\n",
    "    ave_run_time = []"
   ]
  },
  {
   "cell_type": "code",
   "execution_count": 6,
   "id": "b066091e",
   "metadata": {},
   "outputs": [],
   "source": [
    "## Constants\n",
    "m = 1000\n",
    "n = 100000\n",
    "r = 10\n",
    "num_experiments = 10"
   ]
  },
  {
   "cell_type": "code",
   "execution_count": 7,
   "id": "936b04f2",
   "metadata": {},
   "outputs": [],
   "source": [
    "A, X, Y, D = generate_A(m, n, r)\n",
    "U_true, S_true, Vt_true = np.linalg.svd(A, full_matrices=False)"
   ]
  },
  {
   "cell_type": "code",
   "execution_count": 17,
   "id": "41ea2ec9",
   "metadata": {},
   "outputs": [],
   "source": [
    "eps = 0.01\n",
    "while \n",
    "for _ in range(num_experiments)\n",
    "U, V, Sl, Sr = randomized_svd(A, 100, 50)"
   ]
  },
  {
   "cell_type": "code",
   "execution_count": 18,
   "id": "76098f26",
   "metadata": {},
   "outputs": [
    {
     "name": "stdout",
     "output_type": "stream",
     "text": [
      "[10.24166653  9.69436419  7.76604468  6.93334165  5.19117647  4.89782394\n",
      "  4.04670484  2.73467624  1.50668236  0.82872712]\n",
      "[10.62764618  9.45167267  7.03061088  6.64806498  4.90769157  4.29136402\n",
      "  3.86868849  2.36369575  1.50774919  0.81763938]\n"
     ]
    }
   ],
   "source": [
    "print(Sl[:r])\n",
    "print(Sr[:r])"
   ]
  },
  {
   "cell_type": "code",
   "execution_count": 19,
   "id": "711415fd",
   "metadata": {},
   "outputs": [
    {
     "name": "stdout",
     "output_type": "stream",
     "text": [
      "[10.  9.  8.  7.  6.  5.  4.  3.  2.  1.]\n"
     ]
    }
   ],
   "source": [
    "print(S_true[:r])"
   ]
  },
  {
   "cell_type": "code",
   "execution_count": 20,
   "id": "3af3c4f6",
   "metadata": {},
   "outputs": [
    {
     "data": {
      "text/plain": [
       "array([-0.00287989,  0.00394315, -0.00341233, ...,  0.0002788 ,\n",
       "       -0.00574831,  0.00325795])"
      ]
     },
     "execution_count": 20,
     "metadata": {},
     "output_type": "execute_result"
    }
   ],
   "source": [
    "V[:, 0]"
   ]
  },
  {
   "cell_type": "code",
   "execution_count": 21,
   "id": "0daa5b07",
   "metadata": {},
   "outputs": [
    {
     "name": "stdout",
     "output_type": "stream",
     "text": [
      "[-0.00202282  0.00423243 -0.00274934 ... -0.0011124  -0.00500364\n",
      "  0.00296019]\n"
     ]
    }
   ],
   "source": [
    "print(Vt_true.T[:, 0])"
   ]
  },
  {
   "cell_type": "code",
   "execution_count": null,
   "id": "2c9b432d",
   "metadata": {},
   "outputs": [],
   "source": []
  }
 ],
 "metadata": {
  "kernelspec": {
   "display_name": "ee546",
   "language": "python",
   "name": "ee546"
  },
  "language_info": {
   "codemirror_mode": {
    "name": "ipython",
    "version": 3
   },
   "file_extension": ".py",
   "mimetype": "text/x-python",
   "name": "python",
   "nbconvert_exporter": "python",
   "pygments_lexer": "ipython3",
   "version": "3.10.6"
  }
 },
 "nbformat": 4,
 "nbformat_minor": 5
}
